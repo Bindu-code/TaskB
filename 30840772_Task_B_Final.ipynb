{
  "nbformat": 4,
  "nbformat_minor": 0,
  "metadata": {
    "colab": {
      "provenance": []
    },
    "kernelspec": {
      "name": "python3",
      "display_name": "Python 3"
    },
    "language_info": {
      "name": "python"
    }
  },
  "cells": [
    {
      "cell_type": "code",
      "source": [
        "#inporting required libraries\n",
        "import csv\n",
        "import threading\n",
        "from collections import defaultdict"
      ],
      "metadata": {
        "id": "tfvF4qc7ikqs"
      },
      "execution_count": 1,
      "outputs": []
    },
    {
      "cell_type": "code",
      "source": [
        "# Defining Mapper function\n",
        "def mapper_func(input_records):\n",
        "    map_data = []\n",
        "    for record in input_records:\n",
        "        passenger_id, flight_id, _, _, _, _ = record.split(',')\n",
        "        map_data.append((passenger_id, flight_id))\n",
        "    return map_data"
      ],
      "metadata": {
        "id": "R7rCR3sWimXr"
      },
      "execution_count": 2,
      "outputs": []
    },
    {
      "cell_type": "code",
      "source": [
        "# Defining Combiner function\n",
        "def combiner_func(map_data):\n",
        "    combiner_data = defaultdict(list)\n",
        "    for key, value in map_data:\n",
        "        combiner_data[key].append(value)\n",
        "    return list(combiner_data.items())"
      ],
      "metadata": {
        "id": "PZkxfKnlinpG"
      },
      "execution_count": 3,
      "outputs": []
    },
    {
      "cell_type": "code",
      "source": [
        "# Defining Reducer Function\n",
        "def reducer_func(key, values):\n",
        "    return (key, len(values))"
      ],
      "metadata": {
        "id": "9-eXhkPripMb"
      },
      "execution_count": 4,
      "outputs": []
    },
    {
      "cell_type": "code",
      "source": [
        "# Defining Sorter Function\n",
        "def sorter_func(reduced_data):\n",
        "    reduced_data.sort(key=lambda x: x[1], reverse=True)\n",
        "    return reduced_data"
      ],
      "metadata": {
        "id": "1-kKNdhwiqY6"
      },
      "execution_count": 5,
      "outputs": []
    },
    {
      "cell_type": "code",
      "source": [
        "# Read the input passanger deatils file\n",
        "input_file = '/content/AComp_Passenger_data_no_error.csv'  # Update with the actual name of your input file\n",
        "with open(input_file, 'r') as f:\n",
        "    input_records = f.readlines()\n"
      ],
      "metadata": {
        "id": "pnxpFV7HiuRA"
      },
      "execution_count": 6,
      "outputs": []
    },
    {
      "cell_type": "code",
      "source": [
        "# Implicity diving the entire data into 4 chunks\n",
        "chunk_size = len(input_records) // 4\n",
        "chunks = [input_records[i:i+chunk_size] for i in range(0, len(input_records), chunk_size)]\n",
        "print('chunk_size:',chunk_size)"
      ],
      "metadata": {
        "colab": {
          "base_uri": "https://localhost:8080/"
        },
        "id": "8zrAAp-giwPH",
        "outputId": "26e820a4-1e38-4d5d-ae6d-3550693a7235"
      },
      "execution_count": 7,
      "outputs": [
        {
          "output_type": "stream",
          "name": "stdout",
          "text": [
            "chunk_size: 125\n"
          ]
        }
      ]
    },
    {
      "cell_type": "code",
      "source": [
        "# Defining threads for mapper\n",
        "mapper_threads = []\n",
        "map_data = []\n",
        "for i in range(4):\n",
        "    t = threading.Thread(target=lambda: map_data.extend(mapper_func(chunks[i])))\n",
        "    mapper_threads.append(t)\n",
        "    t.start()"
      ],
      "metadata": {
        "id": "q5spNDbgix2v"
      },
      "execution_count": 8,
      "outputs": []
    },
    {
      "cell_type": "code",
      "source": [
        "# For loop to complete all threads of mapper\n",
        "for t in mapper_threads:\n",
        "    t.join()"
      ],
      "metadata": {
        "id": "k4b0RiWQizWF"
      },
      "execution_count": 9,
      "outputs": []
    },
    {
      "cell_type": "code",
      "source": [
        "# Defining threads for combiner\n",
        "combiner_threads = []\n",
        "combiner_data = []\n",
        "for i in range(4):\n",
        "    t = threading.Thread(target=lambda: combiner_data.extend(combiner_func(map_data[i::4])))\n",
        "    combiner_threads.append(t)\n",
        "    t.start()"
      ],
      "metadata": {
        "id": "-x139hhTi02E"
      },
      "execution_count": 10,
      "outputs": []
    },
    {
      "cell_type": "code",
      "source": [
        "# For loop to complete all threads of combiner\n",
        "for t in combiner_threads:\n",
        "    t.join()"
      ],
      "metadata": {
        "id": "54ucOW9si2F0"
      },
      "execution_count": 11,
      "outputs": []
    },
    {
      "cell_type": "code",
      "source": [
        "# Grouping by key using shuffler\n",
        "group_data = defaultdict(list)\n",
        "for key, value in combiner_data:\n",
        "    group_data[key].extend(value)"
      ],
      "metadata": {
        "id": "duBVX_YMi3q2"
      },
      "execution_count": 12,
      "outputs": []
    },
    {
      "cell_type": "code",
      "source": [
        "# Defining threads for reducer\n",
        "reducer_threads = []\n",
        "reduced_data = []\n",
        "for key, values in group_data.items():\n",
        "    t = threading.Thread(target=lambda: reduced_data.append(reducer_func(key, values)))\n",
        "    reducer_threads.append(t)\n",
        "    t.start()"
      ],
      "metadata": {
        "id": "tU87TDc-i49I"
      },
      "execution_count": 13,
      "outputs": []
    },
    {
      "cell_type": "code",
      "source": [
        "# For loop to complete threads of reducer\n",
        "for t in reducer_threads:\n",
        "    t.join()\n"
      ],
      "metadata": {
        "id": "9iUZ_0Vzi6TF"
      },
      "execution_count": 14,
      "outputs": []
    },
    {
      "cell_type": "code",
      "source": [
        "print('t:',t)"
      ],
      "metadata": {
        "colab": {
          "base_uri": "https://localhost:8080/"
        },
        "id": "wRJqWRlPjV7D",
        "outputId": "cb096557-948a-4173-d2fc-62641741758e"
      },
      "execution_count": 15,
      "outputs": [
        {
          "output_type": "stream",
          "name": "stdout",
          "text": [
            "t: <Thread(Thread-48, stopped 140066546009856)>\n"
          ]
        }
      ]
    },
    {
      "cell_type": "code",
      "source": [
        "# Sorting the data based on the passanger_id\n",
        "print('reduced_data:',reduced_data)\n",
        "print('reducer_threads',reducer_threads)\n",
        "sorted_data = sorter_func(reduced_data)"
      ],
      "metadata": {
        "colab": {
          "base_uri": "https://localhost:8080/"
        },
        "id": "ruMklYfpi7mt",
        "outputId": "ab400e5a-3592-4f0b-bab5-1b2e0634f46d"
      },
      "execution_count": 16,
      "outputs": [
        {
          "output_type": "stream",
          "name": "stdout",
          "text": [
            "reduced_data: [('UES9151GS5', 25), ('CYJ0225CH1', 11), ('PAJ3974RK1', 10), ('MXU9187YC7', 14), ('BWI0520BG6', 23), ('PIT2755XC1', 8), ('EZC9678QI6', 21), ('CKZ3132BR4', 19), ('WBE6935NU3', 19), ('WYU2010YH8', 19), ('CDC0302NN5', 12), ('SJD8775RZ4', 16), ('PUD8209OG3', 23), ('HCA3158QA6', 21), ('JJM4724RF7', 21), ('SPR4484HA6', 23), ('LLZ3798PE3', 16), ('WTC9125IE5', 14), ('HGO4350KK1', 18), ('EDV2089LK5', 13), ('XFG5747ZT9', 13), ('IEG9308EA5', 10), ('DAZ3029XA0', 23), ('JBE2302VO4', 16), ('POP2875LH3', 19), ('YMH6360YP0', 16), ('CXN7304ER2', 17), ('VZY2993ME1', 16), ('ONL0812DH1', 12), ('KKP5277HZ7', 11), ('UMH6360YP0', 1)]\n",
            "reducer_threads [<Thread(Thread-18, stopped 140066661029632)>, <Thread(Thread-19, stopped 140066661029632)>, <Thread(Thread-20, stopped 140066661029632)>, <Thread(Thread-21, stopped 140066661029632)>, <Thread(Thread-22, stopped 140066661029632)>, <Thread(Thread-23, stopped 140066661029632)>, <Thread(Thread-24, stopped 140066546009856)>, <Thread(Thread-25, stopped 140066661029632)>, <Thread(Thread-26, stopped 140066661029632)>, <Thread(Thread-27, stopped 140066661029632)>, <Thread(Thread-28, stopped 140066546009856)>, <Thread(Thread-29, stopped 140066661029632)>, <Thread(Thread-30, stopped 140066546009856)>, <Thread(Thread-31, stopped 140066661029632)>, <Thread(Thread-32, stopped 140066546009856)>, <Thread(Thread-33, stopped 140066661029632)>, <Thread(Thread-34, stopped 140066661029632)>, <Thread(Thread-35, stopped 140066546009856)>, <Thread(Thread-36, stopped 140066661029632)>, <Thread(Thread-37, stopped 140066661029632)>, <Thread(Thread-38, stopped 140066661029632)>, <Thread(Thread-39, stopped 140066661029632)>, <Thread(Thread-40, stopped 140066661029632)>, <Thread(Thread-41, stopped 140066661029632)>, <Thread(Thread-42, stopped 140066661029632)>, <Thread(Thread-43, stopped 140066546009856)>, <Thread(Thread-44, stopped 140066546009856)>, <Thread(Thread-45, stopped 140066661029632)>, <Thread(Thread-46, stopped 140066661029632)>, <Thread(Thread-47, stopped 140066661029632)>, <Thread(Thread-48, stopped 140066546009856)>]\n"
          ]
        }
      ]
    },
    {
      "cell_type": "code",
      "source": [
        "# Print the passangers_id that took more number of flights\n",
        "print(\"Top 20 Passengers_id's with Highest Number of trips:\")\n",
        "for passenger, flights in sorted_data[:20]:  \n",
        "    print(f\"Passenger ID: {passenger}, Flights Count: {flights}\")"
      ],
      "metadata": {
        "colab": {
          "base_uri": "https://localhost:8080/"
        },
        "id": "zeEvXgkei9Zw",
        "outputId": "9172354f-fe23-4f92-b7ec-048393b37b37"
      },
      "execution_count": 17,
      "outputs": [
        {
          "output_type": "stream",
          "name": "stdout",
          "text": [
            "Top Passengers with Highest Number of Flights:\n",
            "Passenger ID: UES9151GS5, Flights Count: 25\n",
            "Passenger ID: BWI0520BG6, Flights Count: 23\n",
            "Passenger ID: PUD8209OG3, Flights Count: 23\n",
            "Passenger ID: SPR4484HA6, Flights Count: 23\n",
            "Passenger ID: DAZ3029XA0, Flights Count: 23\n",
            "Passenger ID: EZC9678QI6, Flights Count: 21\n",
            "Passenger ID: HCA3158QA6, Flights Count: 21\n",
            "Passenger ID: JJM4724RF7, Flights Count: 21\n",
            "Passenger ID: CKZ3132BR4, Flights Count: 19\n",
            "Passenger ID: WBE6935NU3, Flights Count: 19\n",
            "Passenger ID: WYU2010YH8, Flights Count: 19\n",
            "Passenger ID: POP2875LH3, Flights Count: 19\n",
            "Passenger ID: HGO4350KK1, Flights Count: 18\n",
            "Passenger ID: CXN7304ER2, Flights Count: 17\n",
            "Passenger ID: SJD8775RZ4, Flights Count: 16\n",
            "Passenger ID: LLZ3798PE3, Flights Count: 16\n",
            "Passenger ID: JBE2302VO4, Flights Count: 16\n",
            "Passenger ID: YMH6360YP0, Flights Count: 16\n",
            "Passenger ID: VZY2993ME1, Flights Count: 16\n",
            "Passenger ID: MXU9187YC7, Flights Count: 14\n"
          ]
        }
      ]
    }
  ]
}